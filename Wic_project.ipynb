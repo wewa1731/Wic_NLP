{
 "cells": [
  {
   "cell_type": "markdown",
   "metadata": {},
   "source": [
    "### I tried the BASIC BERT model and tune the bias, the accuracy is 0.6. In this model, the tokenized sentence is : [sep] sentence1 [sep] sentence2 [sep]. One potential change could be [sep] sentence1 [sep] word [sep] sentence2 [sep]. But tokenize three sentences needed to be done by hand. I also believe there is another form of BERT model"
   ]
  },
  {
   "cell_type": "code",
   "execution_count": 79,
   "metadata": {},
   "outputs": [],
   "source": [
    "import json\n",
    "import torch\n",
    "import transformers as tf\n",
    "import numpy as np\n",
    "\n",
    "from sklearn.model_selection import GridSearchCV\n",
    "from sklearn.linear_model import LogisticRegression\n",
    "\n",
    "import warnings \n",
    "warnings.filterwarnings('ignore')"
   ]
  },
  {
   "cell_type": "code",
   "execution_count": 2,
   "metadata": {},
   "outputs": [
    {
     "data": {
      "text/plain": [
       "{'word': 'place',\n",
       " 'sentence1': 'Do you want to come over to my place later?',\n",
       " 'sentence2': 'A political system with no place for the less prominent groups.',\n",
       " 'idx': 0,\n",
       " 'label': False,\n",
       " 'start1': 31,\n",
       " 'start2': 27,\n",
       " 'end1': 36,\n",
       " 'end2': 32,\n",
       " 'version': 1.1}"
      ]
     },
     "execution_count": 2,
     "metadata": {},
     "output_type": "execute_result"
    }
   ],
   "source": [
    "with open('./data/train.jsonl', 'r') as js_file:\n",
    "    js_list = list(js_file)\n",
    "line=js_list[0]\n",
    "sample=json.loads(line)\n",
    "sample"
   ]
  },
  {
   "cell_type": "code",
   "execution_count": 33,
   "metadata": {},
   "outputs": [],
   "source": [
    "'''\n",
    "Some settings\n",
    "Load sentence in to numpy. The symbol '+' here denotes seperation\n",
    "'''\n",
    "label=np.array([json.loads(i)[\"label\"] for i in js_list]) #load label\n",
    "sen1=np.array([json.loads(i)[\"sentence1\"] for i in js_list])\n",
    "sen2=np.array([json.loads(i)[\"sentence2\"] for i in js_list])\n",
    "sep=np.array([' + ']*len(sen1))# sep array\n",
    "sen_full=np.char.add(sen1,sep)\n",
    "sen_full=np.char.add(sen_full,sen2)\n",
    "words=np.array([json.loads(i)[\"word\"] for i in js_list])"
   ]
  },
  {
   "cell_type": "code",
   "execution_count": 36,
   "metadata": {},
   "outputs": [
    {
     "data": {
      "text/plain": [
       "'Do you want to come over to my place later? + place + Do you want to come over to my place later?'"
      ]
     },
     "execution_count": 36,
     "metadata": {},
     "output_type": "execute_result"
    }
   ],
   "source": [
    "sen_extra=np.char.add(sen1,sep)\n",
    "sen_extra=np.char.add(sen_extra,words)\n",
    "sen_extra=np.char.add(sen_extra,sep)\n",
    "sen_extra=np.char.add(sen_extra,sen1)\n",
    "sen_extra[0]"
   ]
  },
  {
   "cell_type": "code",
   "execution_count": 81,
   "metadata": {},
   "outputs": [],
   "source": [
    "#Load pre trained BERT in the package transformer\n",
    "model_class, tokenizer_class, pretrained_weights=(tf.BertModel, tf.BertTokenizer, 'bert-base-uncased')\n",
    "tokenizer = tokenizer_class.from_pretrained(pretrained_weights)\n",
    "model = model_class.from_pretrained(pretrained_weights)"
   ]
  },
  {
   "cell_type": "code",
   "execution_count": 82,
   "metadata": {},
   "outputs": [],
   "source": [
    "'''\n",
    "Tokenize two sentences with int\n",
    "'''\n",
    "tokenized_sen=np.array([tokenizer.encode\\\n",
    "                        (sen1[i],sen2[i],add_special_tokens=True) \\\n",
    "                        for i in range(5000)])\n",
    "tokenized_sen_extra=np.array([tokenizer.encode\\\n",
    "                              (sen_extra[i],add_special_tokens=True) \\\n",
    "                        for i in range(5000)])"
   ]
  },
  {
   "cell_type": "code",
   "execution_count": 6,
   "metadata": {},
   "outputs": [],
   "source": [
    "'''\n",
    "Padding\n",
    "Align the length to the max length\n",
    "'''\n",
    "def find_max(npa):\n",
    "    max_len = 0\n",
    "    for i in npa:\n",
    "        if len(i) > max_len:\n",
    "            max_len = len(i)\n",
    "    return(max_len)\n",
    "def padding(npa):\n",
    "    max_len=find_max(npa)\n",
    "    return (np.array([i + [0]*(max_len-len(i)) for i in npa]))"
   ]
  },
  {
   "cell_type": "code",
   "execution_count": 7,
   "metadata": {},
   "outputs": [],
   "source": [
    "token_sen_afp=padding(tokenized_sen)\n",
    "mask = np.where(token_sen_afp != 0, 1, 0)#1 is non padding part 0 o.w\n",
    "inp = torch.tensor(token_sen_afp).to(torch.int64)#convert to tensor and in64 for the BERT transformer\n",
    "mask = torch.tensor(mask)"
   ]
  },
  {
   "cell_type": "code",
   "execution_count": 88,
   "metadata": {},
   "outputs": [],
   "source": [
    "'''\n",
    "I export the features as txt, unannotate the code if you want to run it. \n",
    "Require at least 4GB RAM and I cost about half an hour to run.\n",
    "'''\n",
    "\n",
    "\"\"\"\n",
    "with torch.no_grad():\n",
    "    outcome = model(inp,mask)\n",
    "\n",
    "features = outcome[0][:,0,:].numpy()\n",
    "\n",
    "np.savetxt('CLS', features)\n",
    "\"\"\"\n",
    "\n",
    "features=np.loadtxt('CLS')"
   ]
  },
  {
   "cell_type": "code",
   "execution_count": 89,
   "metadata": {},
   "outputs": [
    {
     "data": {
      "text/plain": [
       "(5000, 768)"
      ]
     },
     "execution_count": 89,
     "metadata": {},
     "output_type": "execute_result"
    }
   ],
   "source": [
    "features.shape"
   ]
  },
  {
   "cell_type": "markdown",
   "metadata": {},
   "source": [
    "## Logistics Regression for Train"
   ]
  },
  {
   "cell_type": "code",
   "execution_count": 198,
   "metadata": {},
   "outputs": [
    {
     "name": "stdout",
     "output_type": "stream",
     "text": [
      "best parameters:  {'C': 5.263252631578947}\n",
      "best scrores:  0.6532\n"
     ]
    }
   ],
   "source": [
    "'Regularization '\n",
    "parameters = {'C': np.linspace(0.0001, 100, 20)}\n",
    "grid_search = GridSearchCV(LogisticRegression(), parameters)\n",
    "grid_search.fit(features, label)\n",
    "\n",
    "print('best parameters: ', grid_search.best_params_)\n",
    "print('best scrores: ', grid_search.best_score_)"
   ]
  },
  {
   "cell_type": "code",
   "execution_count": 207,
   "metadata": {},
   "outputs": [
    {
     "data": {
      "text/plain": [
       "5.263252631578947"
      ]
     },
     "execution_count": 207,
     "metadata": {},
     "output_type": "execute_result"
    }
   ],
   "source": [
    "c=grid_search.best_params_['C']\n",
    "c"
   ]
  },
  {
   "cell_type": "code",
   "execution_count": 208,
   "metadata": {},
   "outputs": [
    {
     "data": {
      "text/plain": [
       "LogisticRegression(C=5.263252631578947, fit_intercept=False, max_iter=1000)"
      ]
     },
     "execution_count": 208,
     "metadata": {},
     "output_type": "execute_result"
    }
   ],
   "source": [
    "lgR = LogisticRegression(penalty='l2',C=c,max_iter=1000,fit_intercept = False)#here's our train\n",
    "lgR.fit(features, label)"
   ]
  },
  {
   "cell_type": "code",
   "execution_count": 210,
   "metadata": {
    "scrolled": true
   },
   "outputs": [
    {
     "data": {
      "text/plain": [
       "0.7662"
      ]
     },
     "execution_count": 210,
     "metadata": {},
     "output_type": "execute_result"
    }
   ],
   "source": [
    "lgR.score(features,label)"
   ]
  },
  {
   "cell_type": "markdown",
   "metadata": {},
   "source": [
    "## DEV"
   ]
  },
  {
   "cell_type": "code",
   "execution_count": 55,
   "metadata": {},
   "outputs": [
    {
     "data": {
      "text/plain": [
       "{'word': 'pull',\n",
       " 'sentence1': 'The pull of the current.',\n",
       " 'sentence2': 'Iron fillings drawn by the pull of a magnet.',\n",
       " 'idx': 5000,\n",
       " 'label': True,\n",
       " 'start1': 4,\n",
       " 'start2': 27,\n",
       " 'end1': 8,\n",
       " 'end2': 31,\n",
       " 'version': 1.1}"
      ]
     },
     "execution_count": 55,
     "metadata": {},
     "output_type": "execute_result"
    }
   ],
   "source": [
    "with open('./data/dev.jsonl', 'r') as test_file:\n",
    "    test_list = list(test_file)\n",
    "t_line=test_list[0]\n",
    "sample=json.loads(t_line)\n",
    "sample"
   ]
  },
  {
   "cell_type": "code",
   "execution_count": 59,
   "metadata": {},
   "outputs": [
    {
     "data": {
      "text/plain": [
       "{'word': 'class',\n",
       " 'sentence1': 'An emerging professional class.',\n",
       " 'sentence2': 'Apologizing for losing your temper, even though you were badly provoked, showed real class.',\n",
       " 'idx': 0,\n",
       " 'label': False,\n",
       " 'start1': 25,\n",
       " 'start2': 85,\n",
       " 'end1': 30,\n",
       " 'end2': 90,\n",
       " 'version': 1.1}"
      ]
     },
     "execution_count": 59,
     "metadata": {},
     "output_type": "execute_result"
    }
   ],
   "source": [
    "with open('./data/test.jsonl', 'r') as dev_file:\n",
    "    dev_list = list(dev_file)\n",
    "dev_line=dev_list[0]\n",
    "devsample=json.loads(dev_line)\n",
    "devsample"
   ]
  },
  {
   "cell_type": "code",
   "execution_count": 60,
   "metadata": {},
   "outputs": [],
   "source": [
    "dsen1=np.array([json.loads(i)[\"sentence1\"] for i in dev_list])\n",
    "dsen2=np.array([json.loads(i)[\"sentence2\"] for i in dev_list])\n",
    "dev_label=np.array([json.loads(i)[\"label\"] for i in dev_list]) "
   ]
  },
  {
   "cell_type": "code",
   "execution_count": 95,
   "metadata": {},
   "outputs": [],
   "source": [
    "dev_tokenized_sen=np.array([tokenizer.encode\\\n",
    "                        (dsen1[i],dsen2[i],add_special_tokens=True) \\\n",
    "                        for i in range(len(dsen1))])\n",
    "dev_token_sen_afp=padding(dev_tokenized_sen)\n",
    "dev_mask = np.where(dev_token_sen_afp != 0, 1, 0)\n",
    "dev_inp = torch.tensor(dev_token_sen_afp).to(torch.int64)\n",
    "dev_mask = torch.tensor(dev_mask)"
   ]
  },
  {
   "cell_type": "code",
   "execution_count": 97,
   "metadata": {},
   "outputs": [],
   "source": [
    "with torch.no_grad():\n",
    "    dev_outcome = model(dev_inp,dev_mask)"
   ]
  },
  {
   "cell_type": "code",
   "execution_count": 99,
   "metadata": {},
   "outputs": [],
   "source": [
    "dev_features = dev_outcome[0][:,0,:].numpy()"
   ]
  },
  {
   "cell_type": "code",
   "execution_count": 232,
   "metadata": {},
   "outputs": [
    {
     "name": "stdout",
     "output_type": "stream",
     "text": [
      "MaxScore is  0.6018808777429467\n"
     ]
    }
   ],
   "source": [
    "def AW2S(features,label,threshold,model): #another way to score\n",
    "    a=(model.predict_proba(features)[:,1]>threshold) == label\n",
    "    b=pow(a,2)\n",
    "    return(sum(b)/len(b))\n",
    "\n",
    "def searchBias(linespace,features,label,model):\n",
    "    maxscore=0\n",
    "    maxbias=0\n",
    "    for i in linespace:\n",
    "        score=AW2S(features,label,i,model)\n",
    "        if(score>maxscore):\n",
    "            maxscore=score\n",
    "            maxbias=i\n",
    "    print('MaxScore is ',maxscore)\n",
    "    return(maxbias)\n",
    "\n",
    "sg=np.linspace(0.0001, 1, 50)\n",
    "\n",
    "bias=searchBias(sg,dev_features,dev_label,lgR)"
   ]
  },
  {
   "cell_type": "markdown",
   "metadata": {},
   "source": [
    "## TEST"
   ]
  },
  {
   "cell_type": "code",
   "execution_count": 15,
   "metadata": {},
   "outputs": [],
   "source": [
    "tsen1=np.array([json.loads(i)[\"sentence1\"] for i in test_list])\n",
    "tsen2=np.array([json.loads(i)[\"sentence2\"] for i in test_list])\n",
    "test_label=np.array([json.loads(i)[\"label\"] for i in test_list]) "
   ]
  },
  {
   "cell_type": "code",
   "execution_count": 112,
   "metadata": {},
   "outputs": [],
   "source": [
    "test_tokenized_sen=np.array\\\n",
    "([tokenizer.encode(tsen1[i],tsen2[i],add_special_tokens=True) for i in range(len(tsen1))]);"
   ]
  },
  {
   "cell_type": "code",
   "execution_count": 17,
   "metadata": {},
   "outputs": [],
   "source": [
    "test_token_sen_afp=padding(test_tokenized_sen)\n",
    "test_mask = np.where(test_token_sen_afp != 0, 1, 0)\n",
    "test_inp = torch.tensor(test_token_sen_afp).to(torch.int64)\n",
    "test_mask = torch.tensor(test_mask)"
   ]
  },
  {
   "cell_type": "code",
   "execution_count": 18,
   "metadata": {},
   "outputs": [
    {
     "data": {
      "text/plain": [
       "torch.Size([638, 60])"
      ]
     },
     "execution_count": 18,
     "metadata": {},
     "output_type": "execute_result"
    }
   ],
   "source": [
    "test_inp.shape"
   ]
  },
  {
   "cell_type": "code",
   "execution_count": 19,
   "metadata": {},
   "outputs": [],
   "source": [
    "with torch.no_grad():\n",
    "    test_outcome = model(test_inp,test_mask)"
   ]
  },
  {
   "cell_type": "code",
   "execution_count": 20,
   "metadata": {},
   "outputs": [],
   "source": [
    "test_features = test_outcome[0][:,0,:].numpy()"
   ]
  },
  {
   "cell_type": "code",
   "execution_count": 213,
   "metadata": {},
   "outputs": [
    {
     "data": {
      "text/plain": [
       "0.5893416927899686"
      ]
     },
     "execution_count": 213,
     "metadata": {},
     "output_type": "execute_result"
    }
   ],
   "source": [
    "lgR.score(test_features,test_label)#with BERT model, no-tunning, the best accuracy is about 60%"
   ]
  },
  {
   "cell_type": "code",
   "execution_count": 233,
   "metadata": {},
   "outputs": [
    {
     "data": {
      "text/plain": [
       "0.6018808777429467"
      ]
     },
     "execution_count": 233,
     "metadata": {},
     "output_type": "execute_result"
    }
   ],
   "source": [
    "AW2S(test_features,test_label,bias,lgR)"
   ]
  },
  {
   "cell_type": "code",
   "execution_count": null,
   "metadata": {},
   "outputs": [],
   "source": []
  }
 ],
 "metadata": {
  "kernelspec": {
   "display_name": "Python 3",
   "language": "python",
   "name": "python3"
  },
  "language_info": {
   "codemirror_mode": {
    "name": "ipython",
    "version": 3
   },
   "file_extension": ".py",
   "mimetype": "text/x-python",
   "name": "python",
   "nbconvert_exporter": "python",
   "pygments_lexer": "ipython3",
   "version": "3.8.5"
  }
 },
 "nbformat": 4,
 "nbformat_minor": 4
}
