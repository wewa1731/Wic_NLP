{
 "cells": [
  {
   "cell_type": "code",
   "execution_count": 1,
   "metadata": {},
   "outputs": [],
   "source": [
    "import json\n",
    "import torch\n",
    "import transformers as tf\n",
    "import numpy as np\n",
    "\n",
    "from sklearn.linear_model import LogisticRegression"
   ]
  },
  {
   "cell_type": "code",
   "execution_count": 2,
   "metadata": {},
   "outputs": [
    {
     "data": {
      "text/plain": [
       "{'word': 'place',\n",
       " 'sentence1': 'Do you want to come over to my place later?',\n",
       " 'sentence2': 'A political system with no place for the less prominent groups.',\n",
       " 'idx': 0,\n",
       " 'label': False,\n",
       " 'start1': 31,\n",
       " 'start2': 27,\n",
       " 'end1': 36,\n",
       " 'end2': 32,\n",
       " 'version': 1.1}"
      ]
     },
     "execution_count": 2,
     "metadata": {},
     "output_type": "execute_result"
    }
   ],
   "source": [
    "with open('./data/train.jsonl', 'r') as js_file:\n",
    "    js_list = list(js_file)\n",
    "line=js_list[0]\n",
    "sample=json.loads(line)\n",
    "sample"
   ]
  },
  {
   "cell_type": "code",
   "execution_count": 3,
   "metadata": {},
   "outputs": [],
   "source": [
    "'''\n",
    "Load sentence in to numpy. The symbol '+' here denotes seperation\n",
    "'''\n",
    "sen1=np.array([json.loads(i)[\"sentence1\"] for i in js_list])\n",
    "sen2=np.array([json.loads(i)[\"sentence2\"] for i in js_list])\n",
    "sep=np.array([' + ']*len(sen1))# sep array\n",
    "sen_full=np.char.add(sen1,sep)\n",
    "sen_full=np.char.add(sen_full,sen2)\n",
    "\n",
    "idx=np.array([json.loads(i)[\"idx\"] for i in js_list]) #load index"
   ]
  },
  {
   "cell_type": "code",
   "execution_count": 8,
   "metadata": {},
   "outputs": [],
   "source": [
    "#Load pre trained BERT in the package transformer\n",
    "model_class, tokenizer_class, pretrained_weights=(tf.BertModel, tf.BertTokenizer, 'bert-base-uncased')\n",
    "tokenizer = tokenizer_class.from_pretrained(pretrained_weights)\n",
    "model = model_class.from_pretrained(pretrained_weights)"
   ]
  },
  {
   "cell_type": "code",
   "execution_count": 10,
   "metadata": {},
   "outputs": [
    {
     "name": "stderr",
     "output_type": "stream",
     "text": [
      "<ipython-input-10-8d07cd27aadc>:4: VisibleDeprecationWarning: Creating an ndarray from ragged nested sequences (which is a list-or-tuple of lists-or-tuples-or ndarrays with different lengths or shapes) is deprecated. If you meant to do this, you must specify 'dtype=object' when creating the ndarray\n",
      "  tokenized_sen=np.array([tokenizer.encode(sen1[i],sen2[i],add_special_tokens=True) for i in range(5000)]);\n"
     ]
    }
   ],
   "source": [
    "'''\n",
    "Tokenize two sentences with int\n",
    "'''\n",
    "tokenized_sen=np.array([tokenizer.encode(sen1[i],sen2[i],add_special_tokens=True) for i in range(5000)]);"
   ]
  },
  {
   "cell_type": "code",
   "execution_count": 11,
   "metadata": {},
   "outputs": [],
   "source": [
    "'''\n",
    "Padding\n",
    "Align the length to the max length\n",
    "'''\n",
    "def find_max(npa):\n",
    "    max_len = 0\n",
    "    for i in npa:\n",
    "        if len(i) > max_len:\n",
    "            max_len = len(i)\n",
    "    return(max_len)\n",
    "def padding(npa):\n",
    "    max_len=find_max(npa)\n",
    "    return (np.array([i + [0]*(max_len-len(i)) for i in npa]))"
   ]
  },
  {
   "cell_type": "code",
   "execution_count": 12,
   "metadata": {},
   "outputs": [],
   "source": [
    "token_sen_afp=padding(tokenized_sen)\n",
    "mask = np.where(token_sen_afp != 0, 1, 0)#1 is non padding part 0 o.w\n",
    "inp = torch.tensor(token_sen_afp).to(torch.int64)#convert to tensor and in64 for the BERT transformer\n",
    "mask = torch.tensor(mask)"
   ]
  },
  {
   "cell_type": "code",
   "execution_count": 14,
   "metadata": {},
   "outputs": [
    {
     "data": {
      "text/plain": [
       "'\\nwith torch.no_grad():\\n    outcome = model(inp,mask)\\n'"
      ]
     },
     "execution_count": 14,
     "metadata": {},
     "output_type": "execute_result"
    }
   ],
   "source": [
    "'''\n",
    "Error said require about 4GB RAM\n",
    "my computer has about 16GB RAM and at least 7GB free when I ran it.\n",
    "I also tried CUDA but will give error\n",
    "'''\n",
    "\n",
    "'''\n",
    "with torch.no_grad():\n",
    "    outcome = model(inp,mask)\n",
    "    \n",
    "features = outcome[0][:,0,:].numpy()\n",
    "\n",
    "lgR = LogisticRegression(max_iter=1000)\n",
    "lgR.fit(features, idx)\n",
    "'''"
   ]
  },
  {
   "cell_type": "code",
   "execution_count": null,
   "metadata": {},
   "outputs": [],
   "source": []
  }
 ],
 "metadata": {
  "kernelspec": {
   "display_name": "Python 3",
   "language": "python",
   "name": "python3"
  }
 },
 "nbformat": 4,
 "nbformat_minor": 4
}
