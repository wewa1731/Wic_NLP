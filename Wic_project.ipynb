{
 "cells": [
  {
   "cell_type": "code",
   "execution_count": 2,
   "metadata": {},
   "outputs": [],
   "source": [
    "import json\n",
    "import torch\n",
    "import transformers as tf\n",
    "import numpy as np\n",
    "\n",
    "from sklearn.linear_model import LogisticRegression"
   ]
  },
  {
   "cell_type": "code",
   "execution_count": 3,
   "metadata": {},
   "outputs": [
    {
     "data": {
      "text/plain": [
       "{'word': 'place',\n",
       " 'sentence1': 'Do you want to come over to my place later?',\n",
       " 'sentence2': 'A political system with no place for the less prominent groups.',\n",
       " 'idx': 0,\n",
       " 'label': False,\n",
       " 'start1': 31,\n",
       " 'start2': 27,\n",
       " 'end1': 36,\n",
       " 'end2': 32,\n",
       " 'version': 1.1}"
      ]
     },
     "execution_count": 3,
     "metadata": {},
     "output_type": "execute_result"
    }
   ],
   "source": [
    "with open('./data/train.jsonl', 'r') as js_file:\n",
    "    js_list = list(js_file)\n",
    "line=js_list[0]\n",
    "sample=json.loads(line)\n",
    "sample"
   ]
  },
  {
   "cell_type": "code",
   "execution_count": 4,
   "metadata": {},
   "outputs": [],
   "source": [
    "'''\n",
    "Load sentence in to numpy. The symbol '+' here denotes seperation\n",
    "'''\n",
    "sen1=np.array([json.loads(i)[\"sentence1\"] for i in js_list])\n",
    "sen2=np.array([json.loads(i)[\"sentence2\"] for i in js_list])\n",
    "sep=np.array([' + ']*len(sen1))# sep array\n",
    "sen_full=np.char.add(sen1,sep)\n",
    "sen_full=np.char.add(sen_full,sen2)\n",
    "\n",
    "label=np.array([json.loads(i)[\"label\"] for i in js_list]) #load label"
   ]
  },
  {
   "cell_type": "code",
   "execution_count": 5,
   "metadata": {},
   "outputs": [],
   "source": [
    "#Load pre trained BERT in the package transformer\n",
    "model_class, tokenizer_class, pretrained_weights=(tf.BertModel, tf.BertTokenizer, 'bert-base-uncased')\n",
    "tokenizer = tokenizer_class.from_pretrained(pretrained_weights)\n",
    "model = model_class.from_pretrained(pretrained_weights)"
   ]
  },
  {
   "cell_type": "code",
   "execution_count": 6,
   "metadata": {},
   "outputs": [
    {
     "name": "stderr",
     "output_type": "stream",
     "text": [
      "<ipython-input-6-8d07cd27aadc>:4: VisibleDeprecationWarning: Creating an ndarray from ragged nested sequences (which is a list-or-tuple of lists-or-tuples-or ndarrays with different lengths or shapes) is deprecated. If you meant to do this, you must specify 'dtype=object' when creating the ndarray\n",
      "  tokenized_sen=np.array([tokenizer.encode(sen1[i],sen2[i],add_special_tokens=True) for i in range(5000)]);\n"
     ]
    }
   ],
   "source": [
    "'''\n",
    "Tokenize two sentences with int\n",
    "'''\n",
    "tokenized_sen=np.array([tokenizer.encode(sen1[i],sen2[i],add_special_tokens=True) for i in range(5000)]);"
   ]
  },
  {
   "cell_type": "code",
   "execution_count": 7,
   "metadata": {},
   "outputs": [],
   "source": [
    "'''\n",
    "Padding\n",
    "Align the length to the max length\n",
    "'''\n",
    "def find_max(npa):\n",
    "    max_len = 0\n",
    "    for i in npa:\n",
    "        if len(i) > max_len:\n",
    "            max_len = len(i)\n",
    "    return(max_len)\n",
    "def padding(npa):\n",
    "    max_len=find_max(npa)\n",
    "    return (np.array([i + [0]*(max_len-len(i)) for i in npa]))"
   ]
  },
  {
   "cell_type": "code",
   "execution_count": 8,
   "metadata": {},
   "outputs": [],
   "source": [
    "token_sen_afp=padding(tokenized_sen)\n",
    "mask = np.where(token_sen_afp != 0, 1, 0)#1 is non padding part 0 o.w\n",
    "inp = torch.tensor(token_sen_afp).to(torch.int64)#convert to tensor and in64 for the BERT transformer\n",
    "mask = torch.tensor(mask)"
   ]
  },
  {
   "cell_type": "code",
   "execution_count": 10,
   "metadata": {},
   "outputs": [
    {
     "ename": "NameError",
     "evalue": "name 'idx' is not defined",
     "output_type": "error",
     "traceback": [
      "\u001b[1;31m---------------------------------------------------------------------------\u001b[0m",
      "\u001b[1;31mNameError\u001b[0m                                 Traceback (most recent call last)",
      "\u001b[1;32m<ipython-input-10-66b38799f728>\u001b[0m in \u001b[0;36m<module>\u001b[1;34m\u001b[0m\n\u001b[0;32m     12\u001b[0m \u001b[1;33m\u001b[0m\u001b[0m\n\u001b[0;32m     13\u001b[0m \u001b[0mlgR\u001b[0m \u001b[1;33m=\u001b[0m \u001b[0mLogisticRegression\u001b[0m\u001b[1;33m(\u001b[0m\u001b[0mmax_iter\u001b[0m\u001b[1;33m=\u001b[0m\u001b[1;36m1000\u001b[0m\u001b[1;33m)\u001b[0m\u001b[1;33m\u001b[0m\u001b[1;33m\u001b[0m\u001b[0m\n\u001b[1;32m---> 14\u001b[1;33m \u001b[0mlgR\u001b[0m\u001b[1;33m.\u001b[0m\u001b[0mfit\u001b[0m\u001b[1;33m(\u001b[0m\u001b[0mfeatures\u001b[0m\u001b[1;33m,\u001b[0m \u001b[0midx\u001b[0m\u001b[1;33m)\u001b[0m\u001b[1;33m\u001b[0m\u001b[1;33m\u001b[0m\u001b[0m\n\u001b[0m",
      "\u001b[1;31mNameError\u001b[0m: name 'idx' is not defined"
     ]
    }
   ],
   "source": [
    "'''\n",
    "Require at least 4GB RAM\n",
    "I cost about half an hour to run.\n",
    "'''\n",
    "\n",
    "\n",
    "with torch.no_grad():\n",
    "    outcome = model(inp,mask)\n",
    "    \n",
    "features = outcome[0][:,0,:].numpy()\n",
    "#please neglect idx error here"
   ]
  },
  {
   "cell_type": "code",
   "execution_count": 12,
   "metadata": {},
   "outputs": [
    {
     "data": {
      "text/plain": [
       "(5000, 768)"
      ]
     },
     "execution_count": 12,
     "metadata": {},
     "output_type": "execute_result"
    }
   ],
   "source": [
    "features.shape"
   ]
  },
  {
   "cell_type": "code",
   "execution_count": 13,
   "metadata": {},
   "outputs": [
    {
     "data": {
      "text/plain": [
       "LogisticRegression(max_iter=1000)"
      ]
     },
     "execution_count": 13,
     "metadata": {},
     "output_type": "execute_result"
    }
   ],
   "source": [
    "lgR = LogisticRegression(max_iter=1000)#here's our train\n",
    "lgR.fit(features, label)"
   ]
  },
  {
   "cell_type": "code",
   "execution_count": 24,
   "metadata": {},
   "outputs": [
    {
     "data": {
      "text/plain": [
       "(768,)"
      ]
     },
     "execution_count": 24,
     "metadata": {},
     "output_type": "execute_result"
    }
   ],
   "source": [
    "lgR.coef_[0].shape"
   ]
  },
  {
   "cell_type": "code",
   "execution_count": 14,
   "metadata": {},
   "outputs": [
    {
     "data": {
      "text/plain": [
       "0.7614"
      ]
     },
     "execution_count": 14,
     "metadata": {},
     "output_type": "execute_result"
    }
   ],
   "source": [
    "lgR.score(features,label)"
   ]
  },
  {
   "cell_type": "code",
   "execution_count": 16,
   "metadata": {},
   "outputs": [
    {
     "data": {
      "text/plain": [
       "{'word': 'class',\n",
       " 'sentence1': 'An emerging professional class.',\n",
       " 'sentence2': 'Apologizing for losing your temper, even though you were badly provoked, showed real class.',\n",
       " 'idx': 0,\n",
       " 'label': False,\n",
       " 'start1': 25,\n",
       " 'start2': 85,\n",
       " 'end1': 30,\n",
       " 'end2': 90,\n",
       " 'version': 1.1}"
      ]
     },
     "execution_count": 16,
     "metadata": {},
     "output_type": "execute_result"
    }
   ],
   "source": [
    "with open('./data/test.jsonl', 'r') as test_file:\n",
    "    test_list = list(test_file)\n",
    "t_line=test_list[0]\n",
    "sample=json.loads(t_line)\n",
    "sample"
   ]
  },
  {
   "cell_type": "code",
   "execution_count": 25,
   "metadata": {},
   "outputs": [],
   "source": [
    "tsen1=np.array([json.loads(i)[\"sentence1\"] for i in test_list])\n",
    "tsen2=np.array([json.loads(i)[\"sentence2\"] for i in test_list])\n",
    "test_label=np.array([json.loads(i)[\"label\"] for i in test_list]) "
   ]
  },
  {
   "cell_type": "code",
   "execution_count": 18,
   "metadata": {},
   "outputs": [
    {
     "name": "stderr",
     "output_type": "stream",
     "text": [
      "<ipython-input-18-c1a2d9aa9ffe>:1: VisibleDeprecationWarning: Creating an ndarray from ragged nested sequences (which is a list-or-tuple of lists-or-tuples-or ndarrays with different lengths or shapes) is deprecated. If you meant to do this, you must specify 'dtype=object' when creating the ndarray\n",
      "  test_tokenized_sen=np.array([tokenizer.encode(tsen1[i],tsen2[i],add_special_tokens=True) for i in range(len(tsen1))]);\n"
     ]
    }
   ],
   "source": [
    "test_tokenized_sen=np.array([tokenizer.encode(tsen1[i],tsen2[i],add_special_tokens=True) for i in range(len(tsen1))]);"
   ]
  },
  {
   "cell_type": "code",
   "execution_count": 39,
   "metadata": {},
   "outputs": [],
   "source": [
    "test_token_sen_afp=padding(test_tokenized_sen)\n",
    "test_mask = np.where(test_token_sen_afp != 0, 1, 0)\n",
    "test_inp = torch.tensor(test_token_sen_afp).to(torch.int64)\n",
    "test_mask = torch.tensor(test_mask)"
   ]
  },
  {
   "cell_type": "code",
   "execution_count": 40,
   "metadata": {},
   "outputs": [
    {
     "data": {
      "text/plain": [
       "torch.Size([638, 60])"
      ]
     },
     "execution_count": 40,
     "metadata": {},
     "output_type": "execute_result"
    }
   ],
   "source": [
    "test_inp.shape"
   ]
  },
  {
   "cell_type": "code",
   "execution_count": 41,
   "metadata": {},
   "outputs": [],
   "source": [
    "with torch.no_grad():\n",
    "    test_outcome = model(test_inp,test_mask)"
   ]
  },
  {
   "cell_type": "code",
   "execution_count": 42,
   "metadata": {},
   "outputs": [],
   "source": [
    "test_features = test_outcome[0][:,0,:].numpy()"
   ]
  },
  {
   "cell_type": "code",
   "execution_count": 45,
   "metadata": {},
   "outputs": [
    {
     "data": {
      "text/plain": [
       "0.5940438871473355"
      ]
     },
     "execution_count": 45,
     "metadata": {},
     "output_type": "execute_result"
    }
   ],
   "source": [
    "lgR.score(test_features,test_label)#with BERT model, no-tunning, the best accuracy is about 60%"
   ]
  },
  {
   "cell_type": "code",
   "execution_count": null,
   "metadata": {},
   "outputs": [],
   "source": []
  }
 ],
 "metadata": {
  "kernelspec": {
   "display_name": "Python 3",
   "language": "python",
   "name": "python3"
  },
  "language_info": {
   "codemirror_mode": {
    "name": "ipython",
    "version": 3
   },
   "file_extension": ".py",
   "mimetype": "text/x-python",
   "name": "python",
   "nbconvert_exporter": "python",
   "pygments_lexer": "ipython3",
   "version": "3.8.5"
  }
 },
 "nbformat": 4,
 "nbformat_minor": 4
}
